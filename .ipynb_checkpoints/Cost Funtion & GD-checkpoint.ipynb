{
 "cells": [
  {
   "cell_type": "code",
   "execution_count": 5,
   "id": "02bf86e0",
   "metadata": {},
   "outputs": [
    {
     "ename": "NameError",
     "evalue": "name 'x' is not defined",
     "output_type": "error",
     "traceback": [
      "\u001b[1;31m---------------------------------------------------------------------------\u001b[0m",
      "\u001b[1;31mNameError\u001b[0m                                 Traceback (most recent call last)",
      "Cell \u001b[1;32mIn[5], line 21\u001b[0m\n\u001b[0;32m     19\u001b[0m X \u001b[38;5;241m=\u001b[39m np\u001b[38;5;241m.\u001b[39marray([\u001b[38;5;241m2\u001b[39m,\u001b[38;5;241m4\u001b[39m,\u001b[38;5;241m6\u001b[39m,\u001b[38;5;241m8\u001b[39m,\u001b[38;5;241m10\u001b[39m,\u001b[38;5;241m12\u001b[39m,\u001b[38;5;241m14\u001b[39m,\u001b[38;5;241m16\u001b[39m,\u001b[38;5;241m18\u001b[39m,\u001b[38;5;241m20\u001b[39m])\n\u001b[0;32m     20\u001b[0m Y \u001b[38;5;241m=\u001b[39m np\u001b[38;5;241m.\u001b[39marray([\u001b[38;5;241m10\u001b[39m,\u001b[38;5;241m20\u001b[39m,\u001b[38;5;241m30\u001b[39m,\u001b[38;5;241m40\u001b[39m,\u001b[38;5;241m50\u001b[39m,\u001b[38;5;241m60\u001b[39m,\u001b[38;5;241m70\u001b[39m,\u001b[38;5;241m80\u001b[39m,\u001b[38;5;241m90\u001b[39m,\u001b[38;5;241m100\u001b[39m])\n\u001b[1;32m---> 21\u001b[0m gradient_descent(\u001b[43mx\u001b[49m,y)\n",
      "\u001b[1;31mNameError\u001b[0m: name 'x' is not defined"
     ]
    }
   ],
   "source": [
    "import numpy as np\n",
    "def gradient_descent(x,y):\n",
    "    m=c= 0\n",
    "    rate = 0.001\n",
    "    iteration = 100\n",
    "    n = len(x)\n",
    "    for i in range(iteration):\n",
    "        y_predicted = m * x + b\n",
    "        cost = (1/n) * sum([val**2 for val in (y-y_predicted)])\n",
    "        mp = -(2 / n) * sum(x * (y - y_predicted))\n",
    "        cp = -(2 / n) * sum(y - y_predicted)\n",
    "        m= m - rate * md\n",
    "        c = c - rate * bd\n",
    "        print(\"m: \",m)\n",
    "        print(\"c: \",c)\n",
    "        print(\"cost: \",cost)\n",
    "        print(\"\\n\")\n",
    "       \n",
    "X = np.array([2,4,6,8,10,12,14,16,18,20])\n",
    "Y = np.array([10,20,30,40,50,60,70,80,90,100])\n",
    "gradient_descent(x,y)"
   ]
  },
  {
   "cell_type": "code",
   "execution_count": 6,
   "id": "b3f7c48b",
   "metadata": {},
   "outputs": [],
   "source": [
    "import numpy as np"
   ]
  },
  {
   "cell_type": "code",
   "execution_count": 4,
   "id": "a3a1ecc6",
   "metadata": {},
   "outputs": [
    {
     "name": "stdout",
     "output_type": "stream",
     "text": [
      "Collecting numpy\n",
      "  Using cached numpy-1.25.0-cp311-cp311-win_amd64.whl (15.0 MB)\n",
      "Installing collected packages: numpy\n",
      "Successfully installed numpy-1.25.0\n"
     ]
    }
   ],
   "source": [
    "!pip install numpy"
   ]
  },
  {
   "cell_type": "code",
   "execution_count": null,
   "id": "2a36e784",
   "metadata": {},
   "outputs": [],
   "source": [
    "def gradient_descent(x,y):\n",
    "    m=c= 0\n",
    "    rate = 0.001\n",
    "    iteration = 100\n",
    "    n = len(x)\n",
    "    for i in range(iteration):\n",
    "        y_predicted = m * x + b\n",
    "        cost = (1/n) * sum([val**2 for val in (y-y_predicted)])\n",
    "        mp = -(2 / n) * sum(x * (y - y_predicted))\n",
    "        cp = -(2 / n) * sum(y - y_predicted)\n",
    "        m= m - rate * md\n",
    "        c = c - rate * bd\n",
    "        print(\"m: \",m)\n",
    "        print(\"c: \",c)\n",
    "        print(\"cost: \",cost)\n",
    "        print(\"\\n\")\n",
    "       \n",
    "X = np.array([2,4,6,8,10,12,14,16,18,20])\n",
    "Y = np.array([10,20,30,40,50,60,70,80,90,100])\n",
    "gradient_descent(x,y)"
   ]
  }
 ],
 "metadata": {
  "kernelspec": {
   "display_name": "Python 3 (ipykernel)",
   "language": "python",
   "name": "python3"
  },
  "language_info": {
   "codemirror_mode": {
    "name": "ipython",
    "version": 3
   },
   "file_extension": ".py",
   "mimetype": "text/x-python",
   "name": "python",
   "nbconvert_exporter": "python",
   "pygments_lexer": "ipython3",
   "version": "3.11.4"
  }
 },
 "nbformat": 4,
 "nbformat_minor": 5
}
