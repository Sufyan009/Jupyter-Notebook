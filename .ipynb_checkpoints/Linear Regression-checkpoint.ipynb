{
 "cells": [
  {
   "cell_type": "code",
   "execution_count": 1,
   "id": "4d5cd90c",
   "metadata": {},
   "outputs": [],
   "source": [
    "import matplotlib as plt\n",
    "import numpy as np\n",
    "from sklearn import datasets, linear_model"
   ]
  },
  {
   "cell_type": "code",
   "execution_count": 4,
   "id": "f80c3adf",
   "metadata": {},
   "outputs": [],
   "source": [
    "diabetes = datasets.load_diabetes()\n",
    "# print(diabetes)"
   ]
  },
  {
   "cell_type": "code",
   "execution_count": 6,
   "id": "e1a72503",
   "metadata": {},
   "outputs": [],
   "source": [
    "diabetes_X = diabetes.data[:, np.newaxis, 2]\n",
    "# print(diabetes_X)"
   ]
  },
  {
   "cell_type": "code",
   "execution_count": 7,
   "id": "968e762e",
   "metadata": {},
   "outputs": [],
   "source": [
    "diabetes_X_train = diabetes_X[:-30]\n",
    "diabetes_X_test = diabetes_X[:-30]"
   ]
  },
  {
   "cell_type": "code",
   "execution_count": 8,
   "id": "cd308377",
   "metadata": {},
   "outputs": [],
   "source": [
    "diabetes_y_train = diabetes.target[:-30]\n",
    "diabetes_y_test = diabetes.target[:-30]"
   ]
  },
  {
   "cell_type": "code",
   "execution_count": 10,
   "id": "dfe265c0",
   "metadata": {},
   "outputs": [],
   "source": [
    "model = linear_model"
   ]
  },
  {
   "cell_type": "code",
   "execution_count": 11,
   "id": "0f2cefdb",
   "metadata": {},
   "outputs": [
    {
     "ename": "AttributeError",
     "evalue": "module 'sklearn.linear_model' has no attribute 'fit'",
     "output_type": "error",
     "traceback": [
      "\u001b[1;31m---------------------------------------------------------------------------\u001b[0m",
      "\u001b[1;31mAttributeError\u001b[0m                            Traceback (most recent call last)",
      "Cell \u001b[1;32mIn[11], line 1\u001b[0m\n\u001b[1;32m----> 1\u001b[0m \u001b[43mmodel\u001b[49m\u001b[38;5;241;43m.\u001b[39;49m\u001b[43mfit\u001b[49m(diabetes_X_train, diabetes_X_test)\n",
      "\u001b[1;31mAttributeError\u001b[0m: module 'sklearn.linear_model' has no attribute 'fit'"
     ]
    }
   ],
   "source": [
    "model.fit(diabetes_X_train, diabetes_X_test)"
   ]
  },
  {
   "cell_type": "code",
   "execution_count": null,
   "id": "434d684f",
   "metadata": {},
   "outputs": [],
   "source": [
    "model.predict"
   ]
  }
 ],
 "metadata": {
  "kernelspec": {
   "display_name": "Python 3 (ipykernel)",
   "language": "python",
   "name": "python3"
  },
  "language_info": {
   "codemirror_mode": {
    "name": "ipython",
    "version": 3
   },
   "file_extension": ".py",
   "mimetype": "text/x-python",
   "name": "python",
   "nbconvert_exporter": "python",
   "pygments_lexer": "ipython3",
   "version": "3.11.4"
  }
 },
 "nbformat": 4,
 "nbformat_minor": 5
}
